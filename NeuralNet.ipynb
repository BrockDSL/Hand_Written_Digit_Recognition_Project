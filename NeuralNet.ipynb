{
  "nbformat": 4,
  "nbformat_minor": 0,
  "metadata": {
    "colab": {
      "name": "NeuralNet.ipynb",
      "provenance": [],
      "toc_visible": true
    },
    "kernelspec": {
      "name": "python3",
      "display_name": "Python 3"
    },
    "accelerator": "GPU"
  },
  "cells": [
    {
      "cell_type": "markdown",
      "metadata": {
        "id": "8lJPOzQ29sjD",
        "colab_type": "text"
      },
      "source": [
        "# MNIST Hand Written Digit Recognition (SciKit-Learn and skorch)\n",
        "\n",
        "Colab allows anybody to write and execute arbitrary python code through the browser, and is especially well suited to machine learning, data analysis and education. More technically, Colab is a hosted Jupyter notebook service that requires no setup to use, while providing free access to computing resources including GPUs.\n",
        "\n",
        "\n",
        "\n",
        "For this tutorial we will be utilizing colab to execute python code and packages in order to classify handwritten digits with a Neural Network. The MNIST dataset is an acronym that stands for the Modified National Institute of Standards and Technology dataset. It is a dataset of 60,000 small square 28×28 pixel grayscale images of handwritten single digits between 0 and 9. We will be training our neural netowrk from this dataset so that we can make predictions.\n",
        "\n",
        "\n",
        "\n",
        "\n",
        "Before we begin we want to enable GPU exceleration to increase our processing power.\n",
        "\n",
        "Naviagte through **Runtime** > **Change Runtime Type** > **Hardware Excerlerator** and select GPU.\n",
        "\n"
      ]
    },
    {
      "cell_type": "code",
      "metadata": {
        "id": "fUv2Pohr9l-2",
        "colab_type": "code",
        "colab": {}
      },
      "source": [
        "! [ ! -z \"$COLAB_GPU\" ] && pip install torch scikit-learn==0.20.* skorch"
      ],
      "execution_count": 0,
      "outputs": []
    },
    {
      "cell_type": "code",
      "metadata": {
        "id": "eq8esAKT_kVj",
        "colab_type": "code",
        "colab": {}
      },
      "source": [
        "from sklearn.datasets import fetch_openml\n",
        "from sklearn.model_selection import train_test_split\n",
        "import numpy as np\n",
        "import matplotlib.pyplot as plt"
      ],
      "execution_count": 0,
      "outputs": []
    },
    {
      "cell_type": "markdown",
      "metadata": {
        "id": "tXXlBd11_raC",
        "colab_type": "text"
      },
      "source": [
        "#Download and prepare the MNIST data set\n",
        "\n",
        "mnist_data is comprised of a 784 dimensional vector, representing a 28 x 28 pixel image. Each pixel has a value between 0 and 255, corresponding to the grey-value of a pixel.\n",
        "\n",
        "The data and target ( x and y) are in Uint8 and is also converted to float32 and int64 so we can process and understand the information.\n",
        "\n",
        "We convert the data types and scale down the x range of 0-255 to 0-1"
      ]
    },
    {
      "cell_type": "code",
      "metadata": {
        "id": "ztMEHAQN9iv7",
        "colab_type": "code",
        "colab": {}
      },
      "source": [
        "mnist_data = fetch_openml('mnist_784', cache=False)"
      ],
      "execution_count": 0,
      "outputs": []
    },
    {
      "cell_type": "code",
      "metadata": {
        "id": "NBjhmx98EgWl",
        "colab_type": "code",
        "outputId": "5bbf37b5-5234-4804-da6e-64c617763b48",
        "colab": {
          "base_uri": "https://localhost:8080/",
          "height": 34
        }
      },
      "source": [
        "x = mnist_data.data.astype('float32')\n",
        "y = mnist_data.target.astype('int64')\n",
        "x = x / 255.0\n",
        "\n",
        "x.min(), x.max()\n"
      ],
      "execution_count": 4,
      "outputs": [
        {
          "output_type": "execute_result",
          "data": {
            "text/plain": [
              "(0.0, 1.0)"
            ]
          },
          "metadata": {
            "tags": []
          },
          "execution_count": 4
        }
      ]
    },
    {
      "cell_type": "markdown",
      "metadata": {
        "id": "jNZrYOnT0_CJ",
        "colab_type": "text"
      },
      "source": [
        "#Create train and test datasets, normalize the table.\n",
        "We will be using a training set for the Neural Netowrk to learn from. Then testing its knowledge by splitting a test sample to verify its accuracy."
      ]
    },
    {
      "cell_type": "code",
      "metadata": {
        "id": "FThYje7j1e0l",
        "colab_type": "code",
        "colab": {}
      },
      "source": [
        "x_train, x_test, y_train, y_test = train_test_split(x, y, test_size=0.20, random_state=42)"
      ],
      "execution_count": 0,
      "outputs": []
    },
    {
      "cell_type": "code",
      "metadata": {
        "id": "ntJ-Y-bp2MHS",
        "colab_type": "code",
        "colab": {}
      },
      "source": [
        "assert(x_train.shape[0] + y_test.shape[0] == mnist_data.data.shape[0])"
      ],
      "execution_count": 0,
      "outputs": []
    },
    {
      "cell_type": "markdown",
      "metadata": {
        "id": "M7n9oszJ2ca_",
        "colab_type": "text"
      },
      "source": [
        "#Confirmation printing of digits with label\n",
        "\n",
        "This will be used later to visiaulize our test predicitons.\n"
      ]
    },
    {
      "cell_type": "code",
      "metadata": {
        "id": "KBFtlixV2rs6",
        "colab_type": "code",
        "colab": {}
      },
      "source": [
        "def plot_test(x, y):\n",
        "    \"\"\"Test Print first 5 images in dataset provided\"\"\"\n",
        "    for i, (img, y) in enumerate(zip(x[:5].reshape(5, 28, 28), y[:5])):\n",
        "        plt.subplot(151 + i)\n",
        "        plt.imshow(img)\n",
        "        plt.xticks([])\n",
        "        plt.yticks([])\n",
        "        plt.title(y)"
      ],
      "execution_count": 0,
      "outputs": []
    },
    {
      "cell_type": "code",
      "metadata": {
        "id": "xeLPHbUR2283",
        "colab_type": "code",
        "colab": {
          "base_uri": "https://localhost:8080/",
          "height": 107
        },
        "outputId": "70382546-ac35-43d0-c78c-43702952ea4f"
      },
      "source": [
        "plot_test(x_train, y_train)"
      ],
      "execution_count": 12,
      "outputs": [
        {
          "output_type": "display_data",
          "data": {
            "image/png": "[encoded data removed]",
            "text/plain": [
              "<Figure size 432x288 with 5 Axes>"
            ]
          },
          "metadata": {
            "tags": []
          }
        }
      ]
    }
  ]
}