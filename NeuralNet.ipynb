{
  "nbformat": 4,
  "nbformat_minor": 0,
  "metadata": {
    "colab": {
      "name": "NeuralNet.ipynb",
      "provenance": [],
      "toc_visible": true
    },
    "kernelspec": {
      "name": "python3",
      "display_name": "Python 3"
    },
    "accelerator": "GPU"
  },
  "cells": [
    {
      "cell_type": "markdown",
      "metadata": {
        "id": "8lJPOzQ29sjD",
        "colab_type": "text"
      },
      "source": [
        "# MNIST Hand Written Digit Recognition (SciKit-Learn and skorch)\n",
        "\n",
        "Colab allows anybody to write and execute arbitrary python code through the browser, and is especially well suited to machine learning, data analysis and education. More technically, Colab is a hosted Jupyter notebook service that requires no setup to use, while providing free access to computing resources including GPUs.\n",
        "\n",
        "\n",
        "\n",
        "For this tutorial we will be utilizing colab to execute python code and packages in order to classify handwritten digits with a Neural Network. The MNIST dataset is an acronym that stands for the Modified National Institute of Standards and Technology dataset. It is a dataset of 60,000 small square 28×28 pixel grayscale images of handwritten single digits between 0 and 9. We will be training our neural netowrk from this dataset so that we can make predictions.\n",
        "\n",
        "\n",
        "\n",
        "\n",
        "Before we begin we want to enable GPU exceleration to increase our processing power.\n",
        "\n",
        "Naviagte through **Runtime** > **Change Runtime Type** > **Hardware Excerlerator** and select GPU.\n",
        "\n"
      ]
    },
    {
      "cell_type": "code",
      "metadata": {
        "id": "fUv2Pohr9l-2",
        "colab_type": "code",
        "colab": {}
      },
      "source": [
        "! [ ! -z \"$COLAB_GPU\" ] && pip install torch scikit-learn==0.20.* skorch"
      ],
      "execution_count": 0,
      "outputs": []
    },
    {
      "cell_type": "code",
      "metadata": {
        "id": "eq8esAKT_kVj",
        "colab_type": "code",
        "colab": {}
      },
      "source": [
        "from sklearn.datasets import fetch_openml\n",
        "from sklearn.model_selection import train_test_split\n",
        "import numpy as np\n",
        "import matplotlib.pyplot as plt"
      ],
      "execution_count": 0,
      "outputs": []
    },
    {
      "cell_type": "markdown",
      "metadata": {
        "id": "tXXlBd11_raC",
        "colab_type": "text"
      },
      "source": [
        "#Download and prepare the MNIST data set\n",
        "\n",
        "mnist_data is comprised of a 784 dimensional vector, representing a 28 x 28 pixel image. Each pixel has a value between 0 and 255, corresponding to the grey-value of a pixel.\n",
        "\n",
        "The data and target ( x and y) are in Uint8 and is also converted to float32 and int64 so we can process and understand the information.\n",
        "\n",
        "We convert the data types and scale down the x range of 0-255 to 0-1"
      ]
    },
    {
      "cell_type": "code",
      "metadata": {
        "id": "ztMEHAQN9iv7",
        "colab_type": "code",
        "colab": {}
      },
      "source": [
        "mnist_data = fetch_openml('mnist_784', cache=False)"
      ],
      "execution_count": 0,
      "outputs": []
    },
    {
      "cell_type": "code",
      "metadata": {
        "id": "NBjhmx98EgWl",
        "colab_type": "code",
        "outputId": "9206daaa-249f-4095-fd84-da414b4c613b",
        "colab": {
          "base_uri": "https://localhost:8080/",
          "height": 34
        }
      },
      "source": [
        "x = mnist_data.data.astype('float32')\n",
        "y = mnist_data.target.astype('int64')\n",
        "x = x / 255.0\n",
        "\n",
        "x.min(), x.max()\n"
      ],
      "execution_count": 4,
      "outputs": [
        {
          "output_type": "execute_result",
          "data": {
            "text/plain": [
              "(0.0, 1.0)"
            ]
          },
          "metadata": {
            "tags": []
          },
          "execution_count": 4
        }
      ]
    },
    {
      "cell_type": "markdown",
      "metadata": {
        "id": "jNZrYOnT0_CJ",
        "colab_type": "text"
      },
      "source": [
        "#Create train and test datasets, normalize the table.\n",
        "We will be using a training set for the Neural Netowrk to learn from. Then testing its knowledge by splitting a test sample to verify its accuracy."
      ]
    },
    {
      "cell_type": "code",
      "metadata": {
        "id": "FThYje7j1e0l",
        "colab_type": "code",
        "colab": {}
      },
      "source": [
        "x_train, x_test, y_train, y_test = train_test_split(x, y, test_size=0.20, random_state=42)"
      ],
      "execution_count": 0,
      "outputs": []
    },
    {
      "cell_type": "code",
      "metadata": {
        "id": "ntJ-Y-bp2MHS",
        "colab_type": "code",
        "colab": {}
      },
      "source": [
        "assert(x_train.shape[0] + y_test.shape[0] == mnist_data.data.shape[0])"
      ],
      "execution_count": 0,
      "outputs": []
    },
    {
      "cell_type": "markdown",
      "metadata": {
        "id": "M7n9oszJ2ca_",
        "colab_type": "text"
      },
      "source": [
        "#Confirmation printing of digits with label\n",
        "\n",
        "This will be used later to visiaulize our test predicitons.\n"
      ]
    },
    {
      "cell_type": "code",
      "metadata": {
        "id": "KBFtlixV2rs6",
        "colab_type": "code",
        "colab": {}
      },
      "source": [
        "def plot_test(x, y):\n",
        "    \"\"\"Test Print first 5 images in dataset provided\"\"\"\n",
        "    for i, (img, y) in enumerate(zip(x[:5].reshape(5, 28, 28), y[:5])):\n",
        "        plt.subplot(151 + i)\n",
        "        plt.imshow(img)\n",
        "        plt.xticks([])\n",
        "        plt.yticks([])\n",
        "        plt.title(y)"
      ],
      "execution_count": 0,
      "outputs": []
    },
    {
      "cell_type": "code",
      "metadata": {
        "id": "xeLPHbUR2283",
        "colab_type": "code",
        "outputId": "dfe6da72-442f-4143-b562-4b05643bd380",
        "colab": {
          "base_uri": "https://localhost:8080/",
          "height": 107
        }
      },
      "source": [
        "plot_test(x_train, y_train)"
      ],
      "execution_count": 66,
      "outputs": [
        {
          "output_type": "display_data",
          "data": {
            "image/png": "[encoded data removed]",
            "text/plain": [
              "<Figure size 432x288 with 5 Axes>"
            ]
          },
          "metadata": {
            "tags": []
          }
        }
      ]
    },
    {
      "cell_type": "markdown",
      "metadata": {
        "id": "HSZ0ieN-qXca",
        "colab_type": "text"
      },
      "source": [
        "#Build the Feed Forward Neural Network\n",
        "\n",
        "A feed forward neural netowrk has an input layer, hidden layer(s) and an output layer. The information moves forward in one singular direction, input to hidden to output. Each neuron activating based on some evaluation function.\n",
        "\n",
        "\n",
        "![alt text](https://www.researchgate.net/profile/Montalee_Sasananan/publication/281271367/figure/fig2/AS:284441772609536@1444827611106/Feed-Forward-Neural-Network-with-Back-Propagation.png)\n",
        "\n",
        "For simplicity we will have only one hidden layer made up of (784/6=130) neurons, the input layer will have 784 neurons (28x28 pixels) and the output has 10 neurons representing digits 0-9.\n"
      ]
    },
    {
      "cell_type": "code",
      "metadata": {
        "id": "WI09w-814lhF",
        "colab_type": "code",
        "colab": {}
      },
      "source": [
        "import torch\n",
        "from torch import nn\n",
        "import torch.nn.functional as F\n",
        "\n",
        "device = 'cuda' if torch.cuda.is_available() else 'cpu'"
      ],
      "execution_count": 0,
      "outputs": []
    },
    {
      "cell_type": "code",
      "metadata": {
        "id": "MCiXGTMi4s71",
        "colab_type": "code",
        "colab": {}
      },
      "source": [
        "dimensions = x.shape[1]\n",
        "hidden_size = int(dimensions/6)\n",
        "output_size = len(np.unique(mnist_data.target))"
      ],
      "execution_count": 0,
      "outputs": []
    },
    {
      "cell_type": "markdown",
      "metadata": {
        "id": "G3Z_dnQWIOqY",
        "colab_type": "text"
      },
      "source": [
        "#Using NeuralNet\n",
        "We define our module as Net which utilizes torch's nn.Module. This wraps PyTorch Module in a sklearn interface. We apply nn.Linear transformation in order to set our neural netowrks dimensions and add our feed forward function."
      ]
    },
    {
      "cell_type": "code",
      "metadata": {
        "id": "bNcQDhND5aZO",
        "colab_type": "code",
        "colab": {}
      },
      "source": [
        "class Net(nn.Module):\n",
        "  def __init__(self):\n",
        "    super(Net, self).__init__()\n",
        "    self.dropout = nn.Dropout(0.5)\n",
        "    self.hidden = nn.Linear(dimensions, hidden_size)\n",
        "    self.output = nn.Linear(hidden_size, output_size)\n",
        "  \n",
        "  def forward(self, X, **kwargs):\n",
        "        X = F.relu(self.hidden(X))\n",
        "        X = self.dropout(X)\n",
        "        X = F.softmax(self.output(X), dim=-1)\n",
        "        return X\n"
      ],
      "execution_count": 0,
      "outputs": []
    },
    {
      "cell_type": "markdown",
      "metadata": {
        "id": "z2C2bzEfQKw9",
        "colab_type": "text"
      },
      "source": [
        "Set our epochs,learning rate and training shuffle every epoch. Then instantiate and train our neural network with fit(). (ensure our class Net is passed in NeuralNetClassifer)"
      ]
    },
    {
      "cell_type": "code",
      "metadata": {
        "id": "-54SF9LC8S_U",
        "colab_type": "code",
        "colab": {}
      },
      "source": [
        "from skorch import NeuralNetClassifier"
      ],
      "execution_count": 0,
      "outputs": []
    },
    {
      "cell_type": "code",
      "metadata": {
        "id": "AMCMVLrS8UjZ",
        "colab_type": "code",
        "colab": {}
      },
      "source": [
        "torch.manual_seed(0)\n",
        "\n",
        "net = NeuralNetClassifier(\n",
        "    Net,\n",
        "    max_epochs=25,\n",
        "    lr=0.1,\n",
        "    device=device,\n",
        "    iterator_train__shuffle=True,\n",
        ")\n"
      ],
      "execution_count": 0,
      "outputs": []
    },
    {
      "cell_type": "code",
      "metadata": {
        "id": "B9CPi2_K8Z6M",
        "colab_type": "code",
        "colab": {
          "base_uri": "https://localhost:8080/",
          "height": 496
        },
        "outputId": "9ec2d5f5-9757-450e-b721-0a5d34065ccd"
      },
      "source": [
        "net.fit(x_train, y_train);"
      ],
      "execution_count": 168,
      "outputs": [
        {
          "output_type": "stream",
          "text": [
            "  epoch    train_loss    valid_acc    valid_loss     dur\n",
            "-------  ------------  -----------  ------------  ------\n",
            "      1        \u001b[36m0.7720\u001b[0m       \u001b[32m0.8955\u001b[0m        \u001b[35m0.3765\u001b[0m  0.9139\n",
            "      2        \u001b[36m0.4008\u001b[0m       \u001b[32m0.9166\u001b[0m        \u001b[35m0.2929\u001b[0m  0.9117\n",
            "      3        \u001b[36m0.3347\u001b[0m       \u001b[32m0.9262\u001b[0m        \u001b[35m0.2535\u001b[0m  0.9049\n",
            "      4        \u001b[36m0.2963\u001b[0m       \u001b[32m0.9335\u001b[0m        \u001b[35m0.2256\u001b[0m  0.9172\n",
            "      5        \u001b[36m0.2667\u001b[0m       \u001b[32m0.9401\u001b[0m        \u001b[35m0.2036\u001b[0m  0.9517\n",
            "      6        \u001b[36m0.2475\u001b[0m       \u001b[32m0.9444\u001b[0m        \u001b[35m0.1894\u001b[0m  0.9038\n",
            "      7        \u001b[36m0.2316\u001b[0m       \u001b[32m0.9486\u001b[0m        \u001b[35m0.1727\u001b[0m  0.9124\n",
            "      8        \u001b[36m0.2170\u001b[0m       \u001b[32m0.9521\u001b[0m        \u001b[35m0.1625\u001b[0m  0.9464\n",
            "      9        \u001b[36m0.2079\u001b[0m       \u001b[32m0.9551\u001b[0m        \u001b[35m0.1539\u001b[0m  0.9091\n",
            "     10        \u001b[36m0.1950\u001b[0m       \u001b[32m0.9563\u001b[0m        \u001b[35m0.1473\u001b[0m  0.9055\n",
            "     11        \u001b[36m0.1868\u001b[0m       \u001b[32m0.9593\u001b[0m        \u001b[35m0.1403\u001b[0m  0.8951\n",
            "     12        \u001b[36m0.1790\u001b[0m       0.9590        \u001b[35m0.1350\u001b[0m  0.8944\n",
            "     13        \u001b[36m0.1748\u001b[0m       \u001b[32m0.9605\u001b[0m        \u001b[35m0.1298\u001b[0m  0.8874\n",
            "     14        \u001b[36m0.1674\u001b[0m       \u001b[32m0.9632\u001b[0m        \u001b[35m0.1259\u001b[0m  0.9072\n",
            "     15        \u001b[36m0.1640\u001b[0m       \u001b[32m0.9633\u001b[0m        \u001b[35m0.1225\u001b[0m  0.9078\n",
            "     16        \u001b[36m0.1578\u001b[0m       \u001b[32m0.9636\u001b[0m        \u001b[35m0.1192\u001b[0m  0.9031\n",
            "     17        \u001b[36m0.1539\u001b[0m       \u001b[32m0.9660\u001b[0m        \u001b[35m0.1157\u001b[0m  0.9043\n",
            "     18        \u001b[36m0.1501\u001b[0m       0.9646        \u001b[35m0.1149\u001b[0m  0.8925\n",
            "     19        \u001b[36m0.1462\u001b[0m       0.9656        \u001b[35m0.1122\u001b[0m  0.9133\n",
            "     20        \u001b[36m0.1424\u001b[0m       \u001b[32m0.9674\u001b[0m        \u001b[35m0.1094\u001b[0m  0.9155\n",
            "     21        \u001b[36m0.1374\u001b[0m       \u001b[32m0.9686\u001b[0m        \u001b[35m0.1066\u001b[0m  0.9069\n",
            "     22        \u001b[36m0.1353\u001b[0m       0.9685        \u001b[35m0.1062\u001b[0m  0.9032\n",
            "     23        \u001b[36m0.1342\u001b[0m       \u001b[32m0.9696\u001b[0m        \u001b[35m0.1023\u001b[0m  0.9040\n",
            "     24        \u001b[36m0.1337\u001b[0m       \u001b[32m0.9697\u001b[0m        \u001b[35m0.1021\u001b[0m  0.9081\n",
            "     25        \u001b[36m0.1306\u001b[0m       \u001b[32m0.9708\u001b[0m        \u001b[35m0.0994\u001b[0m  0.9402\n"
          ],
          "name": "stdout"
        }
      ]
    },
    {
      "cell_type": "markdown",
      "metadata": {
        "id": "izx5a9W4QtrM",
        "colab_type": "text"
      },
      "source": [
        "#Make some predictions\n",
        "We will use out test data and find what the accuracy is."
      ]
    },
    {
      "cell_type": "code",
      "metadata": {
        "id": "oOBzDp1zRGH7",
        "colab_type": "code",
        "colab": {}
      },
      "source": [
        "from sklearn.metrics import accuracy_score"
      ],
      "execution_count": 0,
      "outputs": []
    },
    {
      "cell_type": "code",
      "metadata": {
        "id": "o6aJUrQQRLgT",
        "colab_type": "code",
        "colab": {
          "base_uri": "https://localhost:8080/",
          "height": 34
        },
        "outputId": "87713fbd-a612-45df-cb96-16ec6d60d5c5"
      },
      "source": [
        "y_pred = net.predict(x_test)\n",
        "accuracy_score(y_test, y_pred)"
      ],
      "execution_count": 169,
      "outputs": [
        {
          "output_type": "execute_result",
          "data": {
            "text/plain": [
              "0.9694285714285714"
            ]
          },
          "metadata": {
            "tags": []
          },
          "execution_count": 169
        }
      ]
    },
    {
      "cell_type": "markdown",
      "metadata": {
        "id": "YdJhZ19XXF94",
        "colab_type": "text"
      },
      "source": [
        "With 96 percent accurracy, we should be able to predict some of our own data. I drew some digits 28x28 pixel images then greyscalled them into a csv file so they could be easily read.\n",
        "\n",
        "\n",
        "![alt text](https://github.com/KeenanBrab/MNISTNeuralNetwork/blob/master/testdigits.png?raw=true)\n"
      ]
    },
    {
      "cell_type": "code",
      "metadata": {
        "id": "0GRvbHrOmjzb",
        "colab_type": "code",
        "colab": {}
      },
      "source": [
        "def plot(x,y):\n",
        "  \n",
        "  for i,row in enumerate(x):\n",
        "        plt.figure(figsize=(2.5,1.25))\n",
        "        pixels = row.reshape((28, 28))\n",
        "        plt.title(y[i])\n",
        "        plt.imshow(pixels)\n",
        "        plt.show()\n",
        "             \n",
        "  "
      ],
      "execution_count": 0,
      "outputs": []
    },
    {
      "cell_type": "code",
      "metadata": {
        "id": "X_glIN0JXZZo",
        "colab_type": "code",
        "colab": {
          "base_uri": "https://localhost:8080/",
          "height": 1000
        },
        "outputId": "3af2c6e0-0cdf-4fca-e410-2188905f650d"
      },
      "source": [
        "import pandas as pd\n",
        "\n",
        "url = 'https://raw.githubusercontent.com/KeenanBrab/MNISTNeuralNetwork/master/testData.csv'\n",
        "url2 = \"https://raw.githubusercontent.com/KeenanBrab/MNISTNeuralNetwork/master/dataLabel.csv\"\n",
        "\n",
        "df = pd.read_csv(url)\n",
        "labels = pd.read_csv(url2)\n",
        "mytest = df.to_numpy()\n",
        "myresults = labels.to_numpy()\n",
        "\n",
        "\n",
        "y_pred = net.predict(mytest.astype('float32'))\n",
        "accuracy_score(myresults.astype('int64'), y_pred)\n",
        "plot(mytest,y_pred)\n",
        "\n",
        "\n",
        "\n"
      ],
      "execution_count": 171,
      "outputs": [
        {
          "output_type": "display_data",
          "data": {
            "image/png": "[encoded data removed]",
            "text/plain": [
              "<Figure size 180x90 with 1 Axes>"
            ]
          },
          "metadata": {
            "tags": []
          }
        },
        {
          "output_type": "display_data",
          "data": {
            "image/png": "[encoded data removed]",
            "text/plain": [
              "<Figure size 180x90 with 1 Axes>"
            ]
          },
          "metadata": {
            "tags": []
          }
        },
        {
          "output_type": "display_data",
          "data": {
            "image/png": "[encoded data removed]",
            "text/plain": [
              "<Figure size 180x90 with 1 Axes>"
            ]
          },
          "metadata": {
            "tags": []
          }
        },
        {
          "output_type": "display_data",
          "data": {
            "image/png": "[encoded data removed]",
            "text/plain": [
              "<Figure size 180x90 with 1 Axes>"
            ]
          },
          "metadata": {
            "tags": []
          }
        },
        {
          "output_type": "display_data",
          "data": {
            "image/png": "[encoded data removed]",
            "text/plain": [
              "<Figure size 180x90 with 1 Axes>"
            ]
          },
          "metadata": {
            "tags": []
          }
        },
        {
          "output_type": "display_data",
          "data": {
            "image/png": "[encoded data removed]",
            "text/plain": [
              "<Figure size 180x90 with 1 Axes>"
            ]
          },
          "metadata": {
            "tags": []
          }
        },
        {
          "output_type": "display_data",
          "data": {
            "image/png": "[encoded data removed]",
            "text/plain": [
              "<Figure size 180x90 with 1 Axes>"
            ]
          },
          "metadata": {
            "tags": []
          }
        },
        {
          "output_type": "display_data",
          "data": {
            "image/png": "[encoded data removed]",
            "text/plain": [
              "<Figure size 180x90 with 1 Axes>"
            ]
          },
          "metadata": {
            "tags": []
          }
        },
        {
          "output_type": "display_data",
          "data": {
            "image/png": "[encoded data removed]",
            "text/plain": [
              "<Figure size 180x90 with 1 Axes>"
            ]
          },
          "metadata": {
            "tags": []
          }
        },
        {
          "output_type": "display_data",
          "data": {
            "image/png": "[encoded data removed]",
            "text/plain": [
              "<Figure size 180x90 with 1 Axes>"
            ]
          },
          "metadata": {
            "tags": []
          }
        }
      ]
    },
    {
      "cell_type": "markdown",
      "metadata": {
        "id": "v8X7zKIo3BgE",
        "colab_type": "text"
      },
      "source": [
        "#Results\n",
        "\n",
        "After running the code above you can see it classified majority of the digits correctly. The inccorectly classified digit is 7 which it mistakes for a 2. "
      ]
    }
  ]
}